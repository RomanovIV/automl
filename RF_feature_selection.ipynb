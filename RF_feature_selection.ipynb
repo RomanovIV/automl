{
 "cells": [
  {
   "cell_type": "code",
   "execution_count": 24,
   "metadata": {},
   "outputs": [],
   "source": [
    "import numpy as np\n",
    "from sklearn.ensemble import RandomForestRegressor\n",
    "import pandas as pd"
   ]
  },
  {
   "cell_type": "code",
   "execution_count": 278,
   "metadata": {},
   "outputs": [],
   "source": [
    "df = pd.read_csv(\"train.csv\")"
   ]
  },
  {
   "cell_type": "code",
   "execution_count": 15,
   "metadata": {},
   "outputs": [
    {
     "data": {
      "text/plain": [
       "Index(['datetime_0', 'target', 'number_0', 'number_1', 'number_2', 'number_3',\n",
       "       'number_4', 'number_5', 'number_6', 'number_7', 'number_8', 'number_9',\n",
       "       'number_10', 'number_11', 'number_12', 'number_13', 'number_14',\n",
       "       'number_15', 'number_16', 'number_17', 'number_18', 'number_19',\n",
       "       'number_20', 'number_21', 'number_22', 'number_23', 'number_24',\n",
       "       'number_25', 'number_26', 'number_27', 'number_28', 'number_29',\n",
       "       'number_30', 'number_31', 'number_32', 'number_33', 'number_34',\n",
       "       'number_35', 'number_36', 'number_37', 'number_38', 'line_id'],\n",
       "      dtype='object')"
      ]
     },
     "execution_count": 15,
     "metadata": {},
     "output_type": "execute_result"
    }
   ],
   "source": [
    "df.columns"
   ]
  },
  {
   "cell_type": "code",
   "execution_count": 14,
   "metadata": {},
   "outputs": [
    {
     "data": {
      "text/html": [
       "<div>\n",
       "<style scoped>\n",
       "    .dataframe tbody tr th:only-of-type {\n",
       "        vertical-align: middle;\n",
       "    }\n",
       "\n",
       "    .dataframe tbody tr th {\n",
       "        vertical-align: top;\n",
       "    }\n",
       "\n",
       "    .dataframe thead th {\n",
       "        text-align: right;\n",
       "    }\n",
       "</style>\n",
       "<table border=\"1\" class=\"dataframe\">\n",
       "  <thead>\n",
       "    <tr style=\"text-align: right;\">\n",
       "      <th></th>\n",
       "      <th>target</th>\n",
       "      <th>number_0</th>\n",
       "      <th>number_1</th>\n",
       "      <th>number_2</th>\n",
       "      <th>number_3</th>\n",
       "      <th>number_4</th>\n",
       "      <th>number_5</th>\n",
       "      <th>number_6</th>\n",
       "      <th>number_7</th>\n",
       "      <th>number_8</th>\n",
       "      <th>...</th>\n",
       "      <th>number_30</th>\n",
       "      <th>number_31</th>\n",
       "      <th>number_32</th>\n",
       "      <th>number_33</th>\n",
       "      <th>number_34</th>\n",
       "      <th>number_35</th>\n",
       "      <th>number_36</th>\n",
       "      <th>number_37</th>\n",
       "      <th>number_38</th>\n",
       "      <th>line_id</th>\n",
       "    </tr>\n",
       "  </thead>\n",
       "  <tbody>\n",
       "    <tr>\n",
       "      <th>count</th>\n",
       "      <td>365.000000</td>\n",
       "      <td>365.000000</td>\n",
       "      <td>365.000000</td>\n",
       "      <td>365.000000</td>\n",
       "      <td>365.000000</td>\n",
       "      <td>365.000000</td>\n",
       "      <td>365.000000</td>\n",
       "      <td>365.000000</td>\n",
       "      <td>365.000000</td>\n",
       "      <td>365.000000</td>\n",
       "      <td>...</td>\n",
       "      <td>365.000000</td>\n",
       "      <td>365.000000</td>\n",
       "      <td>365.000000</td>\n",
       "      <td>365.000000</td>\n",
       "      <td>365.000000</td>\n",
       "      <td>365.000000</td>\n",
       "      <td>365.000000</td>\n",
       "      <td>365.000000</td>\n",
       "      <td>365.000000</td>\n",
       "      <td>365.000000</td>\n",
       "    </tr>\n",
       "    <tr>\n",
       "      <th>mean</th>\n",
       "      <td>21.605257</td>\n",
       "      <td>0.516228</td>\n",
       "      <td>0.205112</td>\n",
       "      <td>0.608632</td>\n",
       "      <td>0.852131</td>\n",
       "      <td>0.290996</td>\n",
       "      <td>0.666252</td>\n",
       "      <td>0.302688</td>\n",
       "      <td>0.646290</td>\n",
       "      <td>0.645210</td>\n",
       "      <td>...</td>\n",
       "      <td>0.084932</td>\n",
       "      <td>0.010959</td>\n",
       "      <td>0.032877</td>\n",
       "      <td>0.032877</td>\n",
       "      <td>0.032877</td>\n",
       "      <td>0.010959</td>\n",
       "      <td>0.010959</td>\n",
       "      <td>0.065753</td>\n",
       "      <td>0.041096</td>\n",
       "      <td>269.131507</td>\n",
       "    </tr>\n",
       "    <tr>\n",
       "      <th>std</th>\n",
       "      <td>16.731888</td>\n",
       "      <td>0.146753</td>\n",
       "      <td>0.127578</td>\n",
       "      <td>0.214655</td>\n",
       "      <td>0.166493</td>\n",
       "      <td>0.171512</td>\n",
       "      <td>0.249354</td>\n",
       "      <td>0.225507</td>\n",
       "      <td>0.256725</td>\n",
       "      <td>0.257029</td>\n",
       "      <td>...</td>\n",
       "      <td>0.279162</td>\n",
       "      <td>0.104252</td>\n",
       "      <td>0.178559</td>\n",
       "      <td>0.178559</td>\n",
       "      <td>0.178559</td>\n",
       "      <td>0.104252</td>\n",
       "      <td>0.104252</td>\n",
       "      <td>0.248191</td>\n",
       "      <td>0.198785</td>\n",
       "      <td>159.048922</td>\n",
       "    </tr>\n",
       "    <tr>\n",
       "      <th>min</th>\n",
       "      <td>0.000000</td>\n",
       "      <td>0.000000</td>\n",
       "      <td>0.000000</td>\n",
       "      <td>0.180905</td>\n",
       "      <td>0.000000</td>\n",
       "      <td>0.000000</td>\n",
       "      <td>0.181818</td>\n",
       "      <td>0.000000</td>\n",
       "      <td>0.186120</td>\n",
       "      <td>0.193651</td>\n",
       "      <td>...</td>\n",
       "      <td>0.000000</td>\n",
       "      <td>0.000000</td>\n",
       "      <td>0.000000</td>\n",
       "      <td>0.000000</td>\n",
       "      <td>0.000000</td>\n",
       "      <td>0.000000</td>\n",
       "      <td>0.000000</td>\n",
       "      <td>0.000000</td>\n",
       "      <td>0.000000</td>\n",
       "      <td>1.000000</td>\n",
       "    </tr>\n",
       "    <tr>\n",
       "      <th>25%</th>\n",
       "      <td>0.000000</td>\n",
       "      <td>0.420169</td>\n",
       "      <td>0.108137</td>\n",
       "      <td>0.424623</td>\n",
       "      <td>0.802669</td>\n",
       "      <td>0.196531</td>\n",
       "      <td>0.454545</td>\n",
       "      <td>0.121001</td>\n",
       "      <td>0.429022</td>\n",
       "      <td>0.431746</td>\n",
       "      <td>...</td>\n",
       "      <td>0.000000</td>\n",
       "      <td>0.000000</td>\n",
       "      <td>0.000000</td>\n",
       "      <td>0.000000</td>\n",
       "      <td>0.000000</td>\n",
       "      <td>0.000000</td>\n",
       "      <td>0.000000</td>\n",
       "      <td>0.000000</td>\n",
       "      <td>0.000000</td>\n",
       "      <td>131.000000</td>\n",
       "    </tr>\n",
       "    <tr>\n",
       "      <th>50%</th>\n",
       "      <td>27.186048</td>\n",
       "      <td>0.510069</td>\n",
       "      <td>0.178587</td>\n",
       "      <td>0.625628</td>\n",
       "      <td>0.878932</td>\n",
       "      <td>0.394839</td>\n",
       "      <td>0.636364</td>\n",
       "      <td>0.166898</td>\n",
       "      <td>0.630915</td>\n",
       "      <td>0.634921</td>\n",
       "      <td>...</td>\n",
       "      <td>0.000000</td>\n",
       "      <td>0.000000</td>\n",
       "      <td>0.000000</td>\n",
       "      <td>0.000000</td>\n",
       "      <td>0.000000</td>\n",
       "      <td>0.000000</td>\n",
       "      <td>0.000000</td>\n",
       "      <td>0.000000</td>\n",
       "      <td>0.000000</td>\n",
       "      <td>269.000000</td>\n",
       "    </tr>\n",
       "    <tr>\n",
       "      <th>75%</th>\n",
       "      <td>32.193718</td>\n",
       "      <td>0.625153</td>\n",
       "      <td>0.283507</td>\n",
       "      <td>0.791457</td>\n",
       "      <td>0.941849</td>\n",
       "      <td>0.399707</td>\n",
       "      <td>0.909091</td>\n",
       "      <td>0.477051</td>\n",
       "      <td>0.905363</td>\n",
       "      <td>0.911111</td>\n",
       "      <td>...</td>\n",
       "      <td>0.000000</td>\n",
       "      <td>0.000000</td>\n",
       "      <td>0.000000</td>\n",
       "      <td>0.000000</td>\n",
       "      <td>0.000000</td>\n",
       "      <td>0.000000</td>\n",
       "      <td>0.000000</td>\n",
       "      <td>0.000000</td>\n",
       "      <td>0.000000</td>\n",
       "      <td>414.000000</td>\n",
       "    </tr>\n",
       "    <tr>\n",
       "      <th>max</th>\n",
       "      <td>95.249705</td>\n",
       "      <td>0.904415</td>\n",
       "      <td>0.557598</td>\n",
       "      <td>1.000000</td>\n",
       "      <td>1.000000</td>\n",
       "      <td>0.603106</td>\n",
       "      <td>1.000000</td>\n",
       "      <td>1.000000</td>\n",
       "      <td>1.000000</td>\n",
       "      <td>1.000000</td>\n",
       "      <td>...</td>\n",
       "      <td>1.000000</td>\n",
       "      <td>1.000000</td>\n",
       "      <td>1.000000</td>\n",
       "      <td>1.000000</td>\n",
       "      <td>1.000000</td>\n",
       "      <td>1.000000</td>\n",
       "      <td>1.000000</td>\n",
       "      <td>1.000000</td>\n",
       "      <td>1.000000</td>\n",
       "      <td>535.000000</td>\n",
       "    </tr>\n",
       "  </tbody>\n",
       "</table>\n",
       "<p>8 rows × 41 columns</p>\n",
       "</div>"
      ],
      "text/plain": [
       "           target    number_0    number_1    number_2    number_3    number_4  \\\n",
       "count  365.000000  365.000000  365.000000  365.000000  365.000000  365.000000   \n",
       "mean    21.605257    0.516228    0.205112    0.608632    0.852131    0.290996   \n",
       "std     16.731888    0.146753    0.127578    0.214655    0.166493    0.171512   \n",
       "min      0.000000    0.000000    0.000000    0.180905    0.000000    0.000000   \n",
       "25%      0.000000    0.420169    0.108137    0.424623    0.802669    0.196531   \n",
       "50%     27.186048    0.510069    0.178587    0.625628    0.878932    0.394839   \n",
       "75%     32.193718    0.625153    0.283507    0.791457    0.941849    0.399707   \n",
       "max     95.249705    0.904415    0.557598    1.000000    1.000000    0.603106   \n",
       "\n",
       "         number_5    number_6    number_7    number_8     ...       number_30  \\\n",
       "count  365.000000  365.000000  365.000000  365.000000     ...      365.000000   \n",
       "mean     0.666252    0.302688    0.646290    0.645210     ...        0.084932   \n",
       "std      0.249354    0.225507    0.256725    0.257029     ...        0.279162   \n",
       "min      0.181818    0.000000    0.186120    0.193651     ...        0.000000   \n",
       "25%      0.454545    0.121001    0.429022    0.431746     ...        0.000000   \n",
       "50%      0.636364    0.166898    0.630915    0.634921     ...        0.000000   \n",
       "75%      0.909091    0.477051    0.905363    0.911111     ...        0.000000   \n",
       "max      1.000000    1.000000    1.000000    1.000000     ...        1.000000   \n",
       "\n",
       "        number_31   number_32   number_33   number_34   number_35   number_36  \\\n",
       "count  365.000000  365.000000  365.000000  365.000000  365.000000  365.000000   \n",
       "mean     0.010959    0.032877    0.032877    0.032877    0.010959    0.010959   \n",
       "std      0.104252    0.178559    0.178559    0.178559    0.104252    0.104252   \n",
       "min      0.000000    0.000000    0.000000    0.000000    0.000000    0.000000   \n",
       "25%      0.000000    0.000000    0.000000    0.000000    0.000000    0.000000   \n",
       "50%      0.000000    0.000000    0.000000    0.000000    0.000000    0.000000   \n",
       "75%      0.000000    0.000000    0.000000    0.000000    0.000000    0.000000   \n",
       "max      1.000000    1.000000    1.000000    1.000000    1.000000    1.000000   \n",
       "\n",
       "        number_37   number_38     line_id  \n",
       "count  365.000000  365.000000  365.000000  \n",
       "mean     0.065753    0.041096  269.131507  \n",
       "std      0.248191    0.198785  159.048922  \n",
       "min      0.000000    0.000000    1.000000  \n",
       "25%      0.000000    0.000000  131.000000  \n",
       "50%      0.000000    0.000000  269.000000  \n",
       "75%      0.000000    0.000000  414.000000  \n",
       "max      1.000000    1.000000  535.000000  \n",
       "\n",
       "[8 rows x 41 columns]"
      ]
     },
     "execution_count": 14,
     "metadata": {},
     "output_type": "execute_result"
    }
   ],
   "source": [
    "df.describe()"
   ]
  },
  {
   "cell_type": "code",
   "execution_count": 192,
   "metadata": {},
   "outputs": [],
   "source": [
    "from sklearn.model_selection import train_test_split\n",
    "features = [ col for col in df.columns if col.startswith('number')]\n",
    "dummies = [col for col in df.columns if df[col].unique().shape[0] == 2]\n",
    "X = df[dummies]\n",
    "y = df['target']\n",
    "X_train, X_test, y_train, y_test = train_test_split(X, y, test_size=0.3, random_state=10)"
   ]
  },
  {
   "cell_type": "code",
   "execution_count": 27,
   "metadata": {},
   "outputs": [],
   "source": [
    "rfc = RandomForestRegressor(random_state = 0)"
   ]
  },
  {
   "cell_type": "code",
   "execution_count": 29,
   "metadata": {},
   "outputs": [
    {
     "data": {
      "text/plain": [
       "69.61173409930926"
      ]
     },
     "execution_count": 29,
     "metadata": {},
     "output_type": "execute_result"
    }
   ],
   "source": [
    "from sklearn.metrics import mean_squared_error\n",
    "rfc.fit(X_train, y_train)\n",
    "y_pred = rfc.predict(X_test)\n",
    "mean_squared_error(y_test, y_pred)"
   ]
  },
  {
   "cell_type": "markdown",
   "metadata": {},
   "source": [
    "## TruncatedSVD"
   ]
  },
  {
   "cell_type": "code",
   "execution_count": 103,
   "metadata": {},
   "outputs": [],
   "source": [
    "from sklearn.decomposition import TruncatedSVD\n",
    "import matplotlib.pyplot as plt\n"
   ]
  },
  {
   "cell_type": "code",
   "execution_count": 105,
   "metadata": {},
   "outputs": [
    {
     "data": {
      "text/plain": [
       "array([ 0.00715933,  0.0877199 ,  0.16409642,  0.23684604,  0.30626204,\n",
       "        0.37395873,  0.43566107,  0.48718457,  0.53537439,  0.57882036,\n",
       "        0.62038872,  0.66103838,  0.69967355,  0.7373555 ,  0.77395692,\n",
       "        0.81044904,  0.84582053,  0.87983254,  0.9112575 ,  0.9318703 ,\n",
       "        0.94899393,  0.96406088,  0.97675877,  0.9890179 ,  0.9935609 ,\n",
       "        0.9963355 ,  0.99877992,  1.        ])"
      ]
     },
     "execution_count": 105,
     "metadata": {},
     "output_type": "execute_result"
    },
    {
     "data": {
      "image/png": "[encoded data removed]",
      "text/plain": [
       "<matplotlib.figure.Figure at 0x1145ef50>"
      ]
     },
     "metadata": {},
     "output_type": "display_data"
    }
   ],
   "source": [
    "n_features = int(X.shape[1]-1)\n",
    "svd = TruncatedSVD(n_components=n_features,random_state=0)\n",
    "X_train_svd = svd.fit_transform(X_train)\n",
    "X_test_svd = svd.transform(X_test)\n",
    "plt.bar(list(range(n_features)), svd.explained_variance_);\n",
    "svd.explained_variance_.cumsum() / svd.explained_variance_.sum()"
   ]
  },
  {
   "cell_type": "code",
   "execution_count": 110,
   "metadata": {},
   "outputs": [
    {
     "data": {
      "text/plain": [
       "122.62113420244816"
      ]
     },
     "execution_count": 110,
     "metadata": {},
     "output_type": "execute_result"
    }
   ],
   "source": [
    "X_train_svd = X_train_svd[:, (svd.explained_variance_.cumsum() / svd.explained_variance_.sum()) < 0.80 ]\n",
    "X_test_svd = X_test_svd[:, (svd.explained_variance_.cumsum() / svd.explained_variance_.sum()) < 0.80 ]\n",
    "\n",
    "rfc.fit(X_train_svd, y_train)\n",
    "y_pred = rfc.predict(X_test_svd)\n",
    "mean_squared_error(y_test, y_pred)"
   ]
  },
  {
   "cell_type": "markdown",
   "metadata": {},
   "source": [
    "##  PCA"
   ]
  },
  {
   "cell_type": "code",
   "execution_count": 111,
   "metadata": {},
   "outputs": [],
   "source": [
    "from sklearn.decomposition import PCA\n"
   ]
  },
  {
   "cell_type": "code",
   "execution_count": 133,
   "metadata": {},
   "outputs": [
    {
     "data": {
      "text/plain": [
       "array([ 0.08254375,  0.15952202,  0.23258107,  0.30211179,  0.36986895,\n",
       "        0.43307049,  0.48475389,  0.53346997,  0.57691723,  0.61861891,\n",
       "        0.65977126,  0.69867979,  0.73638108,  0.77298281,  0.80953624,\n",
       "        0.84502434,  0.87903899,  0.91056821,  0.93158644,  0.94871666,\n",
       "        0.96379742,  0.9767566 ,  0.98901572,  0.99356071,  0.99633549,\n",
       "        0.99877991,  1.        ,  1.        ])"
      ]
     },
     "execution_count": 133,
     "metadata": {},
     "output_type": "execute_result"
    },
    {
     "data": {
      "image/png": "[encoded data removed]",
      "text/plain": [
       "<matplotlib.figure.Figure at 0xefc32b0>"
      ]
     },
     "metadata": {},
     "output_type": "display_data"
    }
   ],
   "source": [
    "pca = PCA(n_components=int(n_features),random_state=0)\n",
    "X_train_pca = pca.fit_transform(X_train)\n",
    "X_test_pca = pca.transform(X_test)\n",
    "plt.bar(list(range(int(n_features))), pca.explained_variance_);\n",
    "pca.explained_variance_.cumsum() / pca.explained_variance_.sum()"
   ]
  },
  {
   "cell_type": "code",
   "execution_count": 134,
   "metadata": {},
   "outputs": [
    {
     "data": {
      "text/plain": [
       "69.61173409930926"
      ]
     },
     "execution_count": 134,
     "metadata": {},
     "output_type": "execute_result"
    }
   ],
   "source": [
    "X_train_pca = X_train_pca[:, (pca.explained_variance_.cumsum() / pca.explained_variance_.sum()) < 0.80 ]\n",
    "X_test_pca = X_test_pca[:, (pca.explained_variance_.cumsum() / pca.explained_variance_.sum()) < 0.80 ]\n",
    "\n",
    "rfc.fit(X_train, y_train)\n",
    "y_pred = rfc.predict(X_test)\n",
    "mean_squared_error(y_test, y_pred)"
   ]
  },
  {
   "cell_type": "code",
   "execution_count": 118,
   "metadata": {},
   "outputs": [],
   "source": [
    "import seaborn as sns"
   ]
  },
  {
   "cell_type": "code",
   "execution_count": 167,
   "metadata": {},
   "outputs": [],
   "source": [
    "x = rfc.feature_importances_\n",
    "x.sort()\n",
    "x = np.array(x[::-1])"
   ]
  },
  {
   "cell_type": "code",
   "execution_count": 151,
   "metadata": {},
   "outputs": [
    {
     "data": {
      "image/png": "[encoded data removed]",
      "text/plain": [
       "<matplotlib.figure.Figure at 0x12de1850>"
      ]
     },
     "metadata": {},
     "output_type": "display_data"
    }
   ],
   "source": [
    "sns.barplot(x = list(range(len(rfc.feature_importances_))),y=x);"
   ]
  },
  {
   "cell_type": "code",
   "execution_count": 193,
   "metadata": {},
   "outputs": [
    {
     "data": {
      "text/plain": [
       "55.657063346942834"
      ]
     },
     "execution_count": 193,
     "metadata": {},
     "output_type": "execute_result"
    }
   ],
   "source": [
    "rfc.fit(X_train, y_train)\n",
    "y_pred = rfc.predict(X_test)\n",
    "mean_squared_error(y_test, y_pred)"
   ]
  },
  {
   "cell_type": "code",
   "execution_count": 315,
   "metadata": {},
   "outputs": [],
   "source": [
    "X = df.drop('target', axis=1)\n",
    "y = df['target']"
   ]
  },
  {
   "cell_type": "code",
   "execution_count": 357,
   "metadata": {},
   "outputs": [],
   "source": [
    "def select_important_dummies(X, y, mode, importance=0.05, n_estimators=10):\n",
    "    if mode == 'regression':\n",
    "        from sklearn.ensemble import RandomForestRegressor\n",
    "        rf = RandomForestRegressor(n_estimators=n_estimators)\n",
    "    elif mode == 'classification':\n",
    "        from sklearn.ensemble import RandomForestClassifier\n",
    "        rf = RandomForestClassifier(n_estimators=n_estimators)\n",
    "    \n",
    "    dummies = [col for col in X.columns if X[col].unique().shape[0] == 2]\n",
    "    rf.fit(X[dummies], y)\n",
    "    important_features = pd.Series(dummies)[\n",
    "        (rf.feature_importances_ / rf.feature_importances_.max() > importance)].tolist()\n",
    "#     fearues_to_drop = list(set(dummies) - set(important_features))\n",
    "#     return X.drop(labels=fearues_to_drop,axis=1)\n",
    "    return important_features"
   ]
  },
  {
   "cell_type": "code",
   "execution_count": 301,
   "metadata": {},
   "outputs": [
    {
     "name": "stdout",
     "output_type": "stream",
     "text": [
      "[0.40835169999991194, 0.9349419000000125, 1.171259199999895, 1.4757464999997865, 1.6749291999999514, 2.083532699999978, 2.5975272999999106, 3.265285800000129, 3.1799208999996154, 3.5796838999999636, 3.885696700000153, 4.1503060000000005, 4.7921087999998235, 5.065866299999925, 5.429051199999776, 5.893368600000031, 6.2669067999995605, 6.246452899999895, 7.139565199999652]\n"
     ]
    }
   ],
   "source": [
    "import timeit\n",
    "ls = []\n",
    "for i in range(10, 200, 10):\n",
    "    ls.append(timeit.timeit(\"select_importand_dummies(X, y, 'regression',importance=0.005,  n_estimators=i)\",\n",
    "                            globals={'select_importand_dummies':select_importand_dummies,\n",
    "                                    'X':X,\n",
    "                                    \"y\":y,\n",
    "                                    \"i\":i}, number=10))\n",
    "print(ls)"
   ]
  },
  {
   "cell_type": "code",
   "execution_count": 304,
   "metadata": {},
   "outputs": [
    {
     "data": {
      "image/png": "[encoded data removed]",
      "text/plain": [
       "<matplotlib.figure.Figure at 0x11c01d30>"
      ]
     },
     "metadata": {},
     "output_type": "display_data"
    }
   ],
   "source": [
    "plt.plot(range(10, 200, 10),ls);"
   ]
  },
  {
   "cell_type": "code",
   "execution_count": 335,
   "metadata": {},
   "outputs": [],
   "source": [
    "rfc200 = RandomForestRegressor(n_estimators=200)\n",
    "rfc10 = RandomForestRegressor(n_estimators=10)\n",
    "X = df.drop('target', axis=1)\n",
    "y = df['target']\n",
    "X_train, X_test, y_train, y_test = train_test_split(X, y, test_size=0.3, random_state=0)"
   ]
  },
  {
   "cell_type": "code",
   "execution_count": 336,
   "metadata": {},
   "outputs": [
    {
     "name": "stdout",
     "output_type": "stream",
     "text": [
      "70.7805152148\n",
      "70.4672232598\n",
      "69.5180324316\n",
      "71.6163503916\n",
      "70.9108608841\n",
      "70.9991076487\n",
      "70.3330787886\n",
      "70.0382754977\n",
      "632 ms ± 55.2 ms per loop (mean ± std. dev. of 7 runs, 1 loop each)\n"
     ]
    }
   ],
   "source": [
    "%%timeit\n",
    "rfc200.fit(X_train[dummies],y_train)\n",
    "y_pred = rfc200.predict(X_test[dummies])\n",
    "print(mean_squared_error(y_pred, y_test))"
   ]
  },
  {
   "cell_type": "code",
   "execution_count": 362,
   "metadata": {},
   "outputs": [
    {
     "name": "stdout",
     "output_type": "stream",
     "text": [
      "70.1795006826\n",
      "70.0205574583\n",
      "69.9872366199\n",
      "70.0511664477\n",
      "87.524699939\n",
      "70.1222243458\n",
      "70.0267752293\n",
      "87.4273617068\n",
      "526 ms ± 84.6 ms per loop (mean ± std. dev. of 7 runs, 1 loop each)\n"
     ]
    }
   ],
   "source": [
    "%%timeit\n",
    "importrant_features = select_important_dummies(X_train, y_train, 'regression')\n",
    "rfc200.fit(X_train[importrant_features], y_train)\n",
    "y_pred = rfc200.predict(X_test[importrant_features])\n",
    "print(mean_squared_error(y_pred, y_test))"
   ]
  },
  {
   "cell_type": "code",
   "execution_count": null,
   "metadata": {},
   "outputs": [],
   "source": []
  }
 ],
 "metadata": {
  "kernelspec": {
   "display_name": "Python 3",
   "language": "python",
   "name": "python3"
  },
  "language_info": {
   "codemirror_mode": {
    "name": "ipython",
    "version": 3
   },
   "file_extension": ".py",
   "mimetype": "text/x-python",
   "name": "python",
   "nbconvert_exporter": "python",
   "pygments_lexer": "ipython3",
   "version": "3.6.3"
  }
 },
 "nbformat": 4,
 "nbformat_minor": 2
}
